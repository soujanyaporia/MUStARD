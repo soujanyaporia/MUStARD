{
  "nbformat": 4,
  "nbformat_minor": 0,
  "metadata": {
    "colab": {
      "provenance": [],
      "include_colab_link": true
    },
    "kernelspec": {
      "name": "python3",
      "display_name": "Python 3"
    },
    "language_info": {
      "name": "python"
    },
    "accelerator": "GPU",
    "gpuClass": "standard"
  },
  "cells": [
    {
      "cell_type": "markdown",
      "metadata": {
        "id": "view-in-github",
        "colab_type": "text"
      },
      "source": [
        "<a href=\"https://colab.research.google.com/github/frank-leitner/MUStARD/blob/newConda/mustard_demo.ipynb\" target=\"_parent\"><img src=\"https://colab.research.google.com/assets/colab-badge.svg\" alt=\"Open In Colab\"/></a>"
      ]
    },
    {
      "cell_type": "markdown",
      "source": [
        "# Setup the environment"
      ],
      "metadata": {
        "id": "8nfPsqS4SaCp"
      }
    },
    {
      "cell_type": "code",
      "source": [
        "!wget --no-clobber https://repo.anaconda.com/miniconda/Miniconda3-latest-Linux-x86_64.sh\n",
        "!bash Miniconda3-latest-x86_64.sh -b "
      ],
      "metadata": {
        "id": "ex_YKWWgRFoQ",
        "outputId": "a648efc9-8f15-4381-a54b-d41ccf2586ee",
        "colab": {
          "base_uri": "https://localhost:8080/"
        }
      },
      "execution_count": 1,
      "outputs": [
        {
          "output_type": "stream",
          "name": "stdout",
          "text": [
            "--2023-04-01 11:37:45--  https://repo.anaconda.com/miniconda/Miniconda3-py37_4.11.0-Linux-x86_64.sh\n",
            "Resolving repo.anaconda.com (repo.anaconda.com)... 104.16.130.3, 104.16.131.3, 2606:4700::6810:8203, ...\n",
            "Connecting to repo.anaconda.com (repo.anaconda.com)|104.16.130.3|:443... connected.\n",
            "HTTP request sent, awaiting response... 200 OK\n",
            "Length: 103730670 (99M) [application/x-sh]\n",
            "Saving to: ‘Miniconda3-py37_4.11.0-Linux-x86_64.sh’\n",
            "\n",
            "Miniconda3-py37_4.1 100%[===================>]  98.92M   186MB/s    in 0.5s    \n",
            "\n",
            "2023-04-01 11:37:46 (186 MB/s) - ‘Miniconda3-py37_4.11.0-Linux-x86_64.sh’ saved [103730670/103730670]\n",
            "\n",
            "PREFIX=/root/miniconda3\n",
            "Unpacking payload ...\n",
            "Collecting package metadata (current_repodata.json): - \b\b\\ \b\b| \b\bdone\n",
            "Solving environment: - \b\b\\ \b\b| \b\b/ \b\b- \b\bdone\n",
            "\n",
            "## Package Plan ##\n",
            "\n",
            "  environment location: /root/miniconda3\n",
            "\n",
            "  added / updated specs:\n",
            "    - _libgcc_mutex==0.1=main\n",
            "    - _openmp_mutex==4.5=1_gnu\n",
            "    - brotlipy==0.7.0=py37h27cfd23_1003\n",
            "    - ca-certificates==2021.10.26=h06a4308_2\n",
            "    - certifi==2021.10.8=py37h06a4308_2\n",
            "    - cffi==1.15.0=py37hd667e15_1\n",
            "    - charset-normalizer==2.0.4=pyhd3eb1b0_0\n",
            "    - conda-content-trust==0.1.1=pyhd3eb1b0_0\n",
            "    - conda-package-handling==1.7.3=py37h27cfd23_1\n",
            "    - conda==4.11.0=py37h06a4308_0\n",
            "    - cryptography==36.0.0=py37h9ce1e76_0\n",
            "    - idna==3.3=pyhd3eb1b0_0\n",
            "    - ld_impl_linux-64==2.35.1=h7274673_9\n",
            "    - libffi==3.3=he6710b0_2\n",
            "    - libgcc-ng==9.3.0=h5101ec6_17\n",
            "    - libgomp==9.3.0=h5101ec6_17\n",
            "    - libstdcxx-ng==9.3.0=hd4cf53a_17\n",
            "    - ncurses==6.3=h7f8727e_2\n",
            "    - openssl==1.1.1m=h7f8727e_0\n",
            "    - pip==21.2.2=py37h06a4308_0\n",
            "    - pycosat==0.6.3=py37h27cfd23_0\n",
            "    - pycparser==2.21=pyhd3eb1b0_0\n",
            "    - pyopenssl==21.0.0=pyhd3eb1b0_1\n",
            "    - pysocks==1.7.1=py37_1\n",
            "    - python==3.7.11=h12debd9_0\n",
            "    - readline==8.1.2=h7f8727e_1\n",
            "    - requests==2.27.1=pyhd3eb1b0_0\n",
            "    - ruamel_yaml==0.15.100=py37h27cfd23_0\n",
            "    - setuptools==58.0.4=py37h06a4308_0\n",
            "    - six==1.16.0=pyhd3eb1b0_0\n",
            "    - sqlite==3.37.0=hc218d9a_0\n",
            "    - tk==8.6.11=h1ccaba5_0\n",
            "    - tqdm==4.62.3=pyhd3eb1b0_1\n",
            "    - urllib3==1.26.7=pyhd3eb1b0_0\n",
            "    - wheel==0.37.1=pyhd3eb1b0_0\n",
            "    - xz==5.2.5=h7b6447c_0\n",
            "    - yaml==0.2.5=h7b6447c_0\n",
            "    - zlib==1.2.11=h7f8727e_4\n",
            "\n",
            "\n",
            "The following NEW packages will be INSTALLED:\n",
            "\n",
            "  _libgcc_mutex      pkgs/main/linux-64::_libgcc_mutex-0.1-main\n",
            "  _openmp_mutex      pkgs/main/linux-64::_openmp_mutex-4.5-1_gnu\n",
            "  brotlipy           pkgs/main/linux-64::brotlipy-0.7.0-py37h27cfd23_1003\n",
            "  ca-certificates    pkgs/main/linux-64::ca-certificates-2021.10.26-h06a4308_2\n",
            "  certifi            pkgs/main/linux-64::certifi-2021.10.8-py37h06a4308_2\n",
            "  cffi               pkgs/main/linux-64::cffi-1.15.0-py37hd667e15_1\n",
            "  charset-normalizer pkgs/main/noarch::charset-normalizer-2.0.4-pyhd3eb1b0_0\n",
            "  conda              pkgs/main/linux-64::conda-4.11.0-py37h06a4308_0\n",
            "  conda-content-tru~ pkgs/main/noarch::conda-content-trust-0.1.1-pyhd3eb1b0_0\n",
            "  conda-package-han~ pkgs/main/linux-64::conda-package-handling-1.7.3-py37h27cfd23_1\n",
            "  cryptography       pkgs/main/linux-64::cryptography-36.0.0-py37h9ce1e76_0\n",
            "  idna               pkgs/main/noarch::idna-3.3-pyhd3eb1b0_0\n",
            "  ld_impl_linux-64   pkgs/main/linux-64::ld_impl_linux-64-2.35.1-h7274673_9\n",
            "  libffi             pkgs/main/linux-64::libffi-3.3-he6710b0_2\n",
            "  libgcc-ng          pkgs/main/linux-64::libgcc-ng-9.3.0-h5101ec6_17\n",
            "  libgomp            pkgs/main/linux-64::libgomp-9.3.0-h5101ec6_17\n",
            "  libstdcxx-ng       pkgs/main/linux-64::libstdcxx-ng-9.3.0-hd4cf53a_17\n",
            "  ncurses            pkgs/main/linux-64::ncurses-6.3-h7f8727e_2\n",
            "  openssl            pkgs/main/linux-64::openssl-1.1.1m-h7f8727e_0\n",
            "  pip                pkgs/main/linux-64::pip-21.2.2-py37h06a4308_0\n",
            "  pycosat            pkgs/main/linux-64::pycosat-0.6.3-py37h27cfd23_0\n",
            "  pycparser          pkgs/main/noarch::pycparser-2.21-pyhd3eb1b0_0\n",
            "  pyopenssl          pkgs/main/noarch::pyopenssl-21.0.0-pyhd3eb1b0_1\n",
            "  pysocks            pkgs/main/linux-64::pysocks-1.7.1-py37_1\n",
            "  python             pkgs/main/linux-64::python-3.7.11-h12debd9_0\n",
            "  readline           pkgs/main/linux-64::readline-8.1.2-h7f8727e_1\n",
            "  requests           pkgs/main/noarch::requests-2.27.1-pyhd3eb1b0_0\n",
            "  ruamel_yaml        pkgs/main/linux-64::ruamel_yaml-0.15.100-py37h27cfd23_0\n",
            "  setuptools         pkgs/main/linux-64::setuptools-58.0.4-py37h06a4308_0\n",
            "  six                pkgs/main/noarch::six-1.16.0-pyhd3eb1b0_0\n",
            "  sqlite             pkgs/main/linux-64::sqlite-3.37.0-hc218d9a_0\n",
            "  tk                 pkgs/main/linux-64::tk-8.6.11-h1ccaba5_0\n",
            "  tqdm               pkgs/main/noarch::tqdm-4.62.3-pyhd3eb1b0_1\n",
            "  urllib3            pkgs/main/noarch::urllib3-1.26.7-pyhd3eb1b0_0\n",
            "  wheel              pkgs/main/noarch::wheel-0.37.1-pyhd3eb1b0_0\n",
            "  xz                 pkgs/main/linux-64::xz-5.2.5-h7b6447c_0\n",
            "  yaml               pkgs/main/linux-64::yaml-0.2.5-h7b6447c_0\n",
            "  zlib               pkgs/main/linux-64::zlib-1.2.11-h7f8727e_4\n",
            "\n",
            "\n",
            "Preparing transaction: | \b\b/ \b\b- \b\b\\ \b\b| \b\bdone\n",
            "Executing transaction: - \b\b\\ \b\b| \b\b/ \b\b- \b\b\\ \b\b| \b\b/ \b\b- \b\b\\ \b\b| \b\b/ \b\b- \b\b\\ \b\b| \b\b/ \b\bdone\n",
            "installation finished.\n",
            "WARNING:\n",
            "    You currently have a PYTHONPATH environment variable set. This may cause\n",
            "    unexpected behavior when running the Python interpreter in Miniconda3.\n",
            "    For best results, please verify that your PYTHONPATH only points to\n",
            "    directories of packages that are compatible with the Python interpreter\n",
            "    in Miniconda3: /root/miniconda3\n"
          ]
        }
      ]
    },
    {
      "cell_type": "code",
      "execution_count": 2,
      "metadata": {
        "id": "HjAB0j9qQ4TS",
        "outputId": "4ed9646f-fb31-41aa-ad46-1c89bb5fd41f",
        "colab": {
          "base_uri": "https://localhost:8080/"
        }
      },
      "outputs": [
        {
          "output_type": "stream",
          "name": "stdout",
          "text": [
            "Cloning into 'MUStARD'...\n",
            "remote: Enumerating objects: 342, done.\u001b[K\n",
            "remote: Counting objects: 100% (65/65), done.\u001b[K\n",
            "remote: Compressing objects: 100% (59/59), done.\u001b[K\n",
            "remote: Total 342 (delta 31), reused 17 (delta 6), pack-reused 277\u001b[K\n",
            "Receiving objects: 100% (342/342), 77.22 MiB | 32.18 MiB/s, done.\n",
            "Resolving deltas: 100% (191/191), done.\n",
            "/content/MUStARD\n"
          ]
        }
      ],
      "source": [
        "!git clone -b newConda https://github.com/frank-leitner/MUStARD\n",
        "%cd MUStARD/"
      ]
    },    
    {
      "cell_type": "code",
      "source": [
        "import sys"
      ],
      "metadata": {
        "id": "fSGKY-X5TFB7"
      },
      "execution_count": 4,
      "outputs": []
    },
    {
      "cell_type": "code",
      "source": [
        "import nltk\n",
        "\n",
        "nltk.download(\"punkt\")"
      ],
      "metadata": {
        "id": "zIRnljzUR_sM",
        "outputId": "d183d66d-196e-4f88-8d2f-c0ee27671b31",
        "colab": {
          "base_uri": "https://localhost:8080/"
        }
      },
      "execution_count": 5,
      "outputs": [
        {
          "output_type": "stream",
          "name": "stderr",
          "text": [
            "[nltk_data] Downloading package punkt to /root/nltk_data...\n",
            "[nltk_data]   Unzipping tokenizers/punkt.zip.\n"
          ]
        },
        {
          "output_type": "execute_result",
          "data": {
            "text/plain": [
              "True"
            ]
          },
          "metadata": {},
          "execution_count": 5
        }
      ]
    },
    {
      "cell_type": "code",
      "source": [
        "!pip install --upgrade --no-cache-dir gdown jsonlines"
      ],
      "metadata": {
        "colab": {
          "base_uri": "https://localhost:8080/"
        },
        "id": "a88jMHZYWXDn",
        "outputId": "cbe49d55-e765-4b54-8c43-00b827651217"
      },
      "execution_count": 6,
      "outputs": [
        {
          "output_type": "stream",
          "name": "stdout",
          "text": [
            "Looking in indexes: https://pypi.org/simple, https://us-python.pkg.dev/colab-wheels/public/simple/\n",
            "Requirement already satisfied: gdown in /usr/local/lib/python3.9/dist-packages (4.6.6)\n",
            "Collecting gdown\n",
            "  Downloading gdown-4.7.1-py3-none-any.whl (15 kB)\n",
            "Requirement already satisfied: tqdm in /usr/local/lib/python3.9/dist-packages (from gdown) (4.65.0)\n",
            "Requirement already satisfied: filelock in /usr/local/lib/python3.9/dist-packages (from gdown) (3.10.7)\n",
            "Requirement already satisfied: requests[socks] in /usr/local/lib/python3.9/dist-packages (from gdown) (2.27.1)\n",
            "Requirement already satisfied: six in /usr/local/lib/python3.9/dist-packages (from gdown) (1.16.0)\n",
            "Requirement already satisfied: beautifulsoup4 in /usr/local/lib/python3.9/dist-packages (from gdown) (4.11.2)\n",
            "Requirement already satisfied: soupsieve>1.2 in /usr/local/lib/python3.9/dist-packages (from beautifulsoup4->gdown) (2.4)\n",
            "Requirement already satisfied: certifi>=2017.4.17 in /usr/local/lib/python3.9/dist-packages (from requests[socks]->gdown) (2022.12.7)\n",
            "Requirement already satisfied: idna<4,>=2.5 in /usr/local/lib/python3.9/dist-packages (from requests[socks]->gdown) (3.4)\n",
            "Requirement already satisfied: charset-normalizer~=2.0.0 in /usr/local/lib/python3.9/dist-packages (from requests[socks]->gdown) (2.0.12)\n",
            "Requirement already satisfied: urllib3<1.27,>=1.21.1 in /usr/local/lib/python3.9/dist-packages (from requests[socks]->gdown) (1.26.15)\n",
            "Requirement already satisfied: PySocks!=1.5.7,>=1.5.6 in /usr/local/lib/python3.9/dist-packages (from requests[socks]->gdown) (1.7.1)\n",
            "Installing collected packages: gdown\n",
            "  Attempting uninstall: gdown\n",
            "    Found existing installation: gdown 4.6.6\n",
            "    Uninstalling gdown-4.6.6:\n",
            "      Successfully uninstalled gdown-4.6.6\n",
            "Successfully installed gdown-4.7.1\n"
          ]
        }
      ]
    },
    {
      "cell_type": "markdown",
      "source": [
        "# Download the features"
      ],
      "metadata": {
        "id": "exDYJXk9TwmD"
      }
    },
    {
      "cell_type": "code",
      "source": [
        "!mkdir -p data/features\n",
        "!gdown -O data/features --id --folder 1Ff1WDObGKqpfbvy7-H1mD8YWvBS-Kf26"
      ],
      "metadata": {
        "colab": {
          "base_uri": "https://localhost:8080/"
        },
        "id": "IQWGbntIUCZJ",
        "outputId": "3ea98406-0c1d-4ecc-b988-30037bb94cb2"
      },
      "execution_count": 7,
      "outputs": [
        {
          "output_type": "stream",
          "name": "stdout",
          "text": [
            "/usr/local/lib/python3.9/dist-packages/gdown/cli.py:126: FutureWarning: Option `--id` was deprecated in version 4.3.1 and will be removed in 5.0. You don't need to pass it anymore to use a file ID.\n",
            "  warnings.warn(\n",
            "Retrieving folder list\n",
            "Retrieving folder 1nKpz_UCBT6rZxwxgBm4YQrx_foAy28Qm context_final\n",
            "Processing file 1DQVT8GoPk0GBQNr1ks20eqGNTuVP5Pk6 resnet_pool5.hdf5\n",
            "Retrieving folder 1vVWdVlEb70KFR5-9JOYibw5R-nXai6ar utterances_final\n",
            "Processing file 1gN0IgpfWFGlxDQDpU-PwBQwahSRzDoTs resnet_pool5.hdf5\n",
            "Retrieving folder list completed\n",
            "Building directory structure\n",
            "Building directory structure completed\n",
            "Downloading...\n",
            "From (uriginal): https://drive.google.com/uc?id=1DQVT8GoPk0GBQNr1ks20eqGNTuVP5Pk6\n",
            "From (redirected): https://drive.google.com/uc?id=1DQVT8GoPk0GBQNr1ks20eqGNTuVP5Pk6&confirm=t&uuid=3e1ee3ee-9853-4eb6-8fd3-3a18c7eed3b0\n",
            "To: /content/MUStARD/data/features/context_final/resnet_pool5.hdf5\n",
            "100% 1.93G/1.93G [00:14<00:00, 131MB/s]\n",
            "Downloading...\n",
            "From (uriginal): https://drive.google.com/uc?id=1gN0IgpfWFGlxDQDpU-PwBQwahSRzDoTs\n",
            "From (redirected): https://drive.google.com/uc?id=1gN0IgpfWFGlxDQDpU-PwBQwahSRzDoTs&confirm=t&uuid=a70929cf-8b59-420d-b35f-b101ccd217cf\n",
            "To: /content/MUStARD/data/features/utterances_final/resnet_pool5.hdf5\n",
            "100% 730M/730M [00:05<00:00, 142MB/s]\n",
            "Download completed\n"
          ]
        }
      ]
    },
    {
      "cell_type": "code",
      "source": [
        "!gdown --id 1GYv74vN80iX_IkEmkJhkjDRGxLvraWuZ\n",
        "!unzip BERT_text_features.zip -d data/"
      ],
      "metadata": {
        "colab": {
          "base_uri": "https://localhost:8080/"
        },
        "id": "jzVkYRcKUji5",
        "outputId": "cf0e0584-8bb6-4ba4-ca55-d62e44e36687"
      },
      "execution_count": 8,
      "outputs": [
        {
          "output_type": "stream",
          "name": "stdout",
          "text": [
            "/usr/local/lib/python3.9/dist-packages/gdown/cli.py:126: FutureWarning: Option `--id` was deprecated in version 4.3.1 and will be removed in 5.0. You don't need to pass it anymore to use a file ID.\n",
            "  warnings.warn(\n",
            "Downloading...\n",
            "From (uriginal): https://drive.google.com/uc?id=1GYv74vN80iX_IkEmkJhkjDRGxLvraWuZ\n",
            "From (redirected): https://drive.google.com/uc?id=1GYv74vN80iX_IkEmkJhkjDRGxLvraWuZ&confirm=t&uuid=f4be48df-8d9d-4227-a383-459f70f5fc4b\n",
            "To: /content/MUStARD/BERT_text_features.zip\n",
            "100% 566M/566M [00:07<00:00, 77.3MB/s]\n",
            "Archive:  BERT_text_features.zip\n",
            "  inflating: data/bert-output-context.jsonl  \n",
            "  inflating: data/bert-output.jsonl  \n",
            "   creating: data/__MACOSX/\n",
            "  inflating: data/__MACOSX/._bert-output.jsonl  \n"
          ]
        }
      ]
    },
    {
      "cell_type": "markdown",
      "source": [
        "# Run"
      ],
      "metadata": {
        "id": "qZ7uPzBtXDMI"
      }
    },
    {
      "cell_type": "code",
      "source": [
        "!pip install jsonlines"
      ],
      "metadata": {
        "colab": {
          "base_uri": "https://localhost:8080/"
        },
        "id": "Y7FJMbHsrBxb",
        "outputId": "51799e36-fa2b-45be-b38c-942e7d10e174"
      },
      "execution_count": 10,
      "outputs": [
        {
          "output_type": "stream",
          "name": "stdout",
          "text": [
            "Looking in indexes: https://pypi.org/simple, https://us-python.pkg.dev/colab-wheels/public/simple/\n",
            "Collecting jsonlines\n",
            "  Downloading jsonlines-3.1.0-py3-none-any.whl (8.6 kB)\n",
            "Requirement already satisfied: attrs>=19.2.0 in /usr/local/lib/python3.9/dist-packages (from jsonlines) (22.2.0)\n",
            "Installing collected packages: jsonlines\n",
            "Successfully installed jsonlines-3.1.0\n"
          ]
        }
      ]
    },
    {
      "cell_type": "code",
      "source": [
        "!/bin/python3 train_svm.py --config-key \"tav\""
      ],
      "metadata": {
        "id": "YXywHSFiXD0q",
        "colab": {
          "base_uri": "https://localhost:8080/"
        },
        "outputId": "d597a338-31ab-4391-fca4-c81f3c9d86d6"
      },
      "execution_count": 11,
      "outputs": [
        {
          "output_type": "stream",
          "name": "stdout",
          "text": [
            "Args: Namespace(config_key='tav')\n",
            "Present Fold: 1\n",
            "Vocab size: 1702\n",
            "Loading the GloVe model…\n",
            "[[54 10]\n",
            " [23 51]]\n",
            "              precision    recall  f1-score   support\n",
            "\n",
            "           0      0.701     0.844     0.766        64\n",
            "           1      0.836     0.689     0.756        74\n",
            "\n",
            "    accuracy                          0.761       138\n",
            "   macro avg      0.769     0.766     0.761       138\n",
            "weighted avg      0.774     0.761     0.760       138\n",
            "\n",
            "Present Fold: 2\n",
            "Vocab size: 1684\n",
            "Loading the GloVe model…\n",
            "[[49 18]\n",
            " [24 47]]\n",
            "              precision    recall  f1-score   support\n",
            "\n",
            "           0      0.671     0.731     0.700        67\n",
            "           1      0.723     0.662     0.691        71\n",
            "\n",
            "    accuracy                          0.696       138\n",
            "   macro avg      0.697     0.697     0.696       138\n",
            "weighted avg      0.698     0.696     0.695       138\n",
            "\n",
            "Present Fold: 3\n",
            "Vocab size: 1713\n",
            "Loading the GloVe model…\n",
            "[[53 22]\n",
            " [19 44]]\n",
            "              precision    recall  f1-score   support\n",
            "\n",
            "           0      0.736     0.707     0.721        75\n",
            "           1      0.667     0.698     0.682        63\n",
            "\n",
            "    accuracy                          0.703       138\n",
            "   macro avg      0.701     0.703     0.702       138\n",
            "weighted avg      0.704     0.703     0.703       138\n",
            "\n",
            "Present Fold: 4\n",
            "Vocab size: 1727\n",
            "Loading the GloVe model…\n",
            "[[42 20]\n",
            " [25 51]]\n",
            "              precision    recall  f1-score   support\n",
            "\n",
            "           0      0.627     0.677     0.651        62\n",
            "           1      0.718     0.671     0.694        76\n",
            "\n",
            "    accuracy                          0.674       138\n",
            "   macro avg      0.673     0.674     0.673       138\n",
            "weighted avg      0.677     0.674     0.675       138\n",
            "\n",
            "Present Fold: 5\n",
            "Vocab size: 1758\n",
            "Loading the GloVe model…\n",
            "[[57 20]\n",
            " [16 45]]\n",
            "              precision    recall  f1-score   support\n",
            "\n",
            "           0      0.781     0.740     0.760        77\n",
            "           1      0.692     0.738     0.714        61\n",
            "\n",
            "    accuracy                          0.739       138\n",
            "   macro avg      0.737     0.739     0.737       138\n",
            "weighted avg      0.742     0.739     0.740       138\n",
            "\n",
            "####################\n",
            "Fold 1:\n",
            "Weighted Precision: 0.7735649952328498  Weighted Recall: 0.7608695652173914  Weighted F score: 0.7603796210641725\n",
            "Fold 2:\n",
            "Weighted Precision: 0.6979062628854171  Weighted Recall: 0.6956521739130435  Weighted F score: 0.6954603580562659\n",
            "Fold 3:\n",
            "Weighted Precision: 0.7044082125603865  Weighted Recall: 0.7028985507246377  Weighted F score: 0.7033215712978822\n",
            "Fold 4:\n",
            "Weighted Precision: 0.6772262386780122  Weighted Recall: 0.6739130434782609  Weighted F score: 0.6746868616000495\n",
            "Fold 5:\n",
            "Weighted Precision: 0.7416960645072616  Weighted Recall: 0.7391304347826086  Weighted F score: 0.739792960662526\n",
            "####################\n",
            "Avg :\n",
            "Weighted Precision: 0.719  Weighted Recall: 0.714  Weighted F score: 0.715\n"
          ]
        }
      ]
    }
  ]
}
